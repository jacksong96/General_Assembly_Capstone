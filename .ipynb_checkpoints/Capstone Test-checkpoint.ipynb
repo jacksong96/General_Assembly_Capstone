{
 "cells": [
  {
   "cell_type": "code",
   "execution_count": 8,
   "id": "9d8272b9",
   "metadata": {},
   "outputs": [],
   "source": [
    "import requests\n",
    "from bs4 import BeautifulSoup\n",
    "from selenium import webdriver\n",
    "from selenium.webdriver.common.by import By\n",
    "import threading"
   ]
  },
  {
   "cell_type": "code",
   "execution_count": 9,
   "id": "16428bc3",
   "metadata": {},
   "outputs": [],
   "source": [
    "def scrape_signs():\n",
    "    # Create a Selenium webdriver\n",
    "    driver = webdriver.Chrome()\n",
    "    \n",
    "    # Visit the website\n",
    "    driver.get(\"https://blogs.ntu.edu.sg/sgslsignbank/signs/\")\n",
    "    \n",
    "    # Create a BeautifulSoup object\n",
    "    soup = BeautifulSoup(driver.page_source, \"html.parser\")\n",
    "    \n",
    "    # Find all the elements with tag \"a\" and class = \"sign btn btn-red\"\n",
    "    links = soup.find_all(\"a\", class_=\"sign btn btn-red\")\n",
    "    \n",
    "    # Create a dictionary to store the signs\n",
    "    signs = {}\n",
    "    \n",
    "    # Iterate over the links\n",
    "    for link in links:\n",
    "        # Get the text attribute of the link\n",
    "        text = link.text\n",
    "        \n",
    "        # Get the href value of the link\n",
    "        href = link['href']\n",
    "        \n",
    "        # Add the text and href to the dictionary\n",
    "        signs[text] = href\n",
    "        \n",
    "    # Close the Selenium webdriver\n",
    "    driver.close()\n",
    "    \n",
    "    return signs\n",
    "\n",
    "def download_gifs(signs):\n",
    "    # Iterate over each sign\n",
    "    for sign, href in signs.items():\n",
    "        # Visit the href\n",
    "        driver = webdriver.Chrome()\n",
    "        driver.get(href)\n",
    "        \n",
    "        # Find the element with tag \"img\" and class = \"w-100 img-fluid mb-2\"\n",
    "        img = driver.find_element(By.CSS_SELECTOR, \".w-100.img-fluid.mb-2\")\n",
    "        \n",
    "        # Get the src attribute of the img\n",
    "        src = img.get_attribute(\"src\")\n",
    "        \n",
    "        # Download the gif\n",
    "        response = requests.get(src)\n",
    "        with open(f\"{sign}.gif\", \"wb\") as f:\n",
    "            f.write(response.content)\n",
    "        \n",
    "    # Close the Selenium webdriver\n",
    "    driver.close()"
   ]
  },
  {
   "cell_type": "code",
   "execution_count": null,
   "id": "2941e40d",
   "metadata": {},
   "outputs": [],
   "source": [
    "# Scrape the signs\n",
    "signs = scrape_signs()\n",
    "\n",
    "# Download the gifs\n",
    "download_gifs(signs)"
   ]
  },
  {
   "cell_type": "code",
   "execution_count": null,
   "id": "e8b3feb1",
   "metadata": {},
   "outputs": [],
   "source": []
  }
 ],
 "metadata": {
  "kernelspec": {
   "display_name": "Python 3 (ipykernel)",
   "language": "python",
   "name": "python3"
  },
  "language_info": {
   "codemirror_mode": {
    "name": "ipython",
    "version": 3
   },
   "file_extension": ".py",
   "mimetype": "text/x-python",
   "name": "python",
   "nbconvert_exporter": "python",
   "pygments_lexer": "ipython3",
   "version": "3.9.16"
  }
 },
 "nbformat": 4,
 "nbformat_minor": 5
}
